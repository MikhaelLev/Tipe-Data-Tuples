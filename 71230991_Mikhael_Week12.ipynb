{
 "cells": [
  {
   "cell_type": "code",
   "execution_count": 1,
   "metadata": {},
   "outputs": [
    {
     "name": "stdout",
     "output_type": "stream",
     "text": [
      "True\n"
     ]
    }
   ],
   "source": [
    "def cek_tuple(tupel):\n",
    "    return len(set(tupel)) <= 1\n",
    "\n",
    "tA= (90, 90, 90, 90)\n",
    "print(cek_tuple(tA))"
   ]
  },
  {
   "cell_type": "code",
   "execution_count": 2,
   "metadata": {},
   "outputs": [
    {
     "name": "stdout",
     "output_type": "stream",
     "text": [
      "Data: ('Matahari Bhakti Nendya', '22064091', 'Bantul, DI Yogyakarta')\n",
      "\n",
      "NIM: 22064091\n",
      "NAMA: Matahari Bhakti Nendya\n",
      "ALAMAT: Bantul, DI Yogyakarta\n",
      "\n",
      "NIM: ('2', '2', '0', '6', '4', '0', '9', '1')\n",
      "\n",
      "NAMA DEPAN: ('a', 't', 'a', 'h', 'a', 'r', 'i')\n",
      "\n",
      "NAMA TERBALIK: ('Nendya', 'Bhakti', 'Matahari')\n"
     ]
    }
   ],
   "source": [
    "def pengubahan_data(data):\n",
    "    nim = (data[1])\n",
    "    nama_lengkap = data[0]\n",
    "    alamat = data[2]\n",
    "    nama_depan = []\n",
    "    for i in data:\n",
    "        pembagian_kata = i.split()\n",
    "        nama_depan.append(pembagian_kata[0])\n",
    "    nama_terbalik = tuple(nama_lengkap.split()[::-1])\n",
    "    \n",
    "    print(\"Data:\", data)\n",
    "    print(\"\\nNIM:\", nim)\n",
    "    print(\"NAMA:\", nama_lengkap)\n",
    "    print(\"ALAMAT:\", alamat)\n",
    "    print(\"\\nNIM:\", tuple(data[1]))\n",
    "    print(\"\\nNAMA DEPAN:\", tuple(nama_depan[0])[1:])\n",
    "    print(\"\\nNAMA TERBALIK:\", nama_terbalik)\n",
    "\n",
    "\n",
    "data_diri = ('Matahari Bhakti Nendya', '22064091', 'Bantul, DI Yogyakarta')\n",
    "pengubahan_data(data_diri)\n"
   ]
  },
  {
   "cell_type": "code",
   "execution_count": 3,
   "metadata": {},
   "outputs": [
    {
     "name": "stdout",
     "output_type": "stream",
     "text": [
      "04 3\n",
      "06 1\n",
      "07 1\n",
      "09 2\n",
      "10 3\n",
      "11 6\n",
      "14 1\n",
      "15 2\n",
      "16 4\n",
      "17 2\n",
      "18 1\n",
      "19 1\n"
     ]
    }
   ],
   "source": [
    "def distribusi_jam(namaFile):\n",
    "    try:\n",
    "        with open(namaFile) as file:\n",
    "            distribusi = dict()\n",
    "\n",
    "            for i in file:\n",
    "                if i.startswith('From '):\n",
    "                    kata = i.split()\n",
    "                    jam = kata[5].split(':')[0]\n",
    "                    distribusi[jam] = distribusi.get(jam, 0) + 1\n",
    "\n",
    "            for jam in sorted(distribusi.keys()):\n",
    "                print(jam, distribusi[jam])\n",
    "\n",
    "    except FileNotFoundError:\n",
    "        print(\"File tidak ditemukan.\")\n",
    "\n",
    "nama_file = input(\"Enter a file name: \")\n",
    "distribusi_jam(nama_file)"
   ]
  }
 ],
 "metadata": {
  "kernelspec": {
   "display_name": "Python 3",
   "language": "python",
   "name": "python3"
  },
  "language_info": {
   "codemirror_mode": {
    "name": "ipython",
    "version": 3
   },
   "file_extension": ".py",
   "mimetype": "text/x-python",
   "name": "python",
   "nbconvert_exporter": "python",
   "pygments_lexer": "ipython3",
   "version": "3.12.1"
  }
 },
 "nbformat": 4,
 "nbformat_minor": 2
}
